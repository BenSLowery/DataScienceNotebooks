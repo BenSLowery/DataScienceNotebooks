{
 "cells": [
  {
   "cell_type": "markdown",
   "metadata": {},
   "source": [
    "# Logistic Regression Notebook"
   ]
  },
  {
   "cell_type": "markdown",
   "metadata": {},
   "source": [
    "## 1. The Dataset"
   ]
  },
  {
   "cell_type": "code",
   "execution_count": 1,
   "metadata": {},
   "outputs": [],
   "source": [
    "# Import some standard libraries\n",
    "import numpy as np\n",
    "import pandas as pd\n",
    "import pprint"
   ]
  },
  {
   "cell_type": "code",
   "execution_count": 2,
   "metadata": {},
   "outputs": [],
   "source": [
    "df = pd.read_csv('LogRegDataset.csv')\n",
    "features = df[['X1','X2']].to_numpy()\n",
    "labels = df['labels'].to_numpy()"
   ]
  },
  {
   "cell_type": "code",
   "execution_count": 3,
   "metadata": {},
   "outputs": [
    {
     "data": {
      "image/png": "[encoded data removed]",
      "text/plain": [
       "<Figure size 432x288 with 1 Axes>"
      ]
     },
     "metadata": {
      "needs_background": "light"
     },
     "output_type": "display_data"
    }
   ],
   "source": [
    "# Import plotting libraries to visualise dataset \n",
    "from matplotlib import pyplot as plt\n",
    "%matplotlib inline\n",
    "fig, ax = plt.subplots()\n",
    "ax.scatter(features[:, 0], features[:, 1], c=labels);"
   ]
  },
  {
   "cell_type": "code",
   "execution_count": 4,
   "metadata": {},
   "outputs": [],
   "source": [
    "# Split dataset into training and test examples\n",
    "from sklearn.model_selection import train_test_split\n",
    "X_train, X_test, y_train, y_test = train_test_split(features, labels, test_size=0.2, random_state=1)"
   ]
  },
  {
   "cell_type": "markdown",
   "metadata": {},
   "source": [
    "## 2. Custom Implementation"
   ]
  },
  {
   "cell_type": "markdown",
   "metadata": {},
   "source": [
    "### 2.1 Overview of Logistic Regression"
   ]
  },
  {
   "cell_type": "markdown",
   "metadata": {},
   "source": [
    "TODO"
   ]
  },
  {
   "cell_type": "markdown",
   "metadata": {},
   "source": [
    "### 2.2 Coding Logistic Regression"
   ]
  },
  {
   "cell_type": "markdown",
   "metadata": {},
   "source": [
    "#### 2.2.1 Helper Functions"
   ]
  },
  {
   "cell_type": "code",
   "execution_count": 5,
   "metadata": {},
   "outputs": [],
   "source": [
    "\"\"\"\n",
    "    Calculate the objective function value, here we are using the Conditional Log likelihood function \n",
    "    and returning the value when we pass our weights through this function. Ultimately, this function will \n",
    "    be utilised in training to see how much we are moving towards a solution; this is through \n",
    "    comparison of an objectuve value to the one computed before.\n",
    "\"\"\"\n",
    "def calc_obj_value(X,y,weights):\n",
    "    # Precompute dot product \n",
    "    xw=np.dot(X,weights)\n",
    "    \n",
    "    # Compute the Conditional Log Likelihood (CLL) for each training example\n",
    "    # l(w)=yXw-log(1+exp(Xw))\n",
    "    cll=y*xw-np.log(1+np.exp(xw))\n",
    "    \n",
    "    # Sum over all examples to find the value\n",
    "    return np.sum(cll)"
   ]
  },
  {
   "cell_type": "code",
   "execution_count": 6,
   "metadata": {},
   "outputs": [],
   "source": [
    "\"\"\"\n",
    "   Calculate the Gradient of the Conditional Log Likelihood Function (objective function), \n",
    "   this is to say we are taking partial derivatives for the objective function w.r.t. the weights. \n",
    "   Thus we will return an Nx1 vector, with N being the number of weights.\n",
    "\"\"\"\n",
    "def calc_gradient(X,y,weights):\n",
    "    # Precompute dot product\n",
    "    xw=np.dot(X,weights)\n",
    "    # Calculate P(Y=1|X,W)\n",
    "    # Our probability is modelled on the sigmoid function\n",
    "    Y_pred=np.exp(xw)/(1+np.exp(xw))\n",
    "    \n",
    "    # Return the derivative of the Conditional Log Likelihood\n",
    "    # df/dw_i=X^{T}(y-p(y=1|X,W))\n",
    "    return np.dot(X.T,(y-Y_pred))"
   ]
  },
  {
   "cell_type": "markdown",
   "metadata": {},
   "source": [
    "#### 2.2.2 Training the dataset"
   ]
  },
  {
   "cell_type": "code",
   "execution_count": 7,
   "metadata": {},
   "outputs": [],
   "source": [
    "\"\"\"\n",
    "    To train the dataset we follow the logistic regression algorithm. In train we loop over a convergence condition\n",
    "    in which we keep updating weights using gradient descent (or ascent) till the changes in weights is small\n",
    "    enough that is exceeeds the expectation of precision we set it. We take inputs of training data, \n",
    "    whilst also having a \"verbose\" option to offer us insight on how our algorithm progresses towards an optimum.\n",
    "\"\"\"\n",
    "def train(X_train,y_train,verbose=False):\n",
    "    # Create a copy of X and way to not change original dataframe\n",
    "    X=X_train.copy()\n",
    "    y=y_train.copy()\n",
    "    # Get rows and columns of our training data\n",
    "    r,c=X_train.shape\n",
    "    \n",
    "    # Set step size and tolerance, we can fine tune these parameters to get better results for our models.\n",
    "    # The current set up is a good starting point however for most problems.\n",
    "    step=0.01\n",
    "    tol=0.0001\n",
    "    \n",
    "    # Initialise weights with a vector of 0's\n",
    "    weights=np.zeros((c+1,1))\n",
    "    \n",
    "    # Add a column of ones to accomidate our initial weight (or bias) w_0\n",
    "    X=np.hstack((np.ones((X.shape[0], 1)),X))\n",
    "    \n",
    "    # Calculate an initial Objective Value Score and save to a list object\n",
    "    # The list is useful perhaps if we want to analyse how quickly we converge to a solution.\n",
    "    objVals=[]\n",
    "    objVals.append(calc_obj_value(X,y,weights))\n",
    "    \n",
    "    # keep a track of iterations and convergence condition\n",
    "    converged = False\n",
    "    it=1\n",
    "    \n",
    "    # Iterate till convergence\n",
    "    while not converged:\n",
    "        \n",
    "        grad=calc_gradient(X,y,weights)\n",
    "        \n",
    "        # Update weights\n",
    "        weights=weights+step*grad\n",
    "        \n",
    "        newObj=calc_obj_value(X,y,weights)\n",
    "        \n",
    "        # Find difference between current and previous objective value\n",
    "        ObjDiff=np.abs(newObj-objVals[-1])\n",
    "        \n",
    "        # Check Convergence\n",
    "        if (ObjDiff<tol):\n",
    "            # Since we have a negligible change between objective functions we can say we've reached a solution\n",
    "            converged=True\n",
    "            print(\"Convergence! Reached at Iteration {:d}\".format(it))\n",
    "        # Give regular update on where we are iteration wise, and our cost. \n",
    "        if(it % 100==0 and verbose==True):\n",
    "            print('Iteration {:d}'.format(it))\n",
    "            print(\"ObjValue Difference:\", np.abs(newObj-objVals[-1]))\n",
    "            \n",
    "        it+=1\n",
    "        \n",
    "        objVals.append(newObj)\n",
    "        \n",
    "    # Pass our final weights and ObjVals for each iteration\n",
    "    return weights, objVals"
   ]
  },
  {
   "cell_type": "markdown",
   "metadata": {},
   "source": [
    "We can now generate our weights for the dataset we generated earlier!"
   ]
  },
  {
   "cell_type": "code",
   "execution_count": 8,
   "metadata": {},
   "outputs": [
    {
     "name": "stdout",
     "output_type": "stream",
     "text": [
      "Convergence! Reached at Iteration 441\n",
      "w_0: 1.010210\n",
      "w_1: -1.366836\n",
      "w_2: 4.834718\n"
     ]
    }
   ],
   "source": [
    "# Generate weights and save our objective values for later analysis\n",
    "w,objVals=train(X_train, y_train[:,np.newaxis])\n",
    "# Print weights\n",
    "for idx,weight in enumerate(w):\n",
    "    print(\"w_{:d}: {:0.6f}\".format(idx, weight[0]))"
   ]
  },
  {
   "cell_type": "markdown",
   "metadata": {},
   "source": [
    "#### 2.2.3 Testing Dataset "
   ]
  },
  {
   "cell_type": "code",
   "execution_count": 9,
   "metadata": {},
   "outputs": [],
   "source": [
    "\"\"\"\n",
    "    Create a function to predict the weights. Here we are passing through a testing dataset of labelled examples and\n",
    "    the weights calculaed in the train function. By setting a decision boundary of P=0.5, we can calculate the \n",
    "    probability of a given an example being 1, then rounding it to the nearest integer to give its class. We return \n",
    "    the accuracy and also the predicted values to use as analysis later.\n",
    "    \n",
    "\"\"\"\n",
    "\n",
    "def predict(X,y,weights):\n",
    "    # Copy Dataframe and add a row of 1s to weight\n",
    "    X=X.copy()\n",
    "    X=np.hstack((np.ones((X.shape[0], 1)),X))\n",
    "    \n",
    "    # Find P(Y=1|X,w)\n",
    "    xw=np.dot(X,weights)\n",
    "    # Fit into our sigmoid function\n",
    "    y_pred=np.exp(xw)/(1+np.exp(xw))\n",
    "    \n",
    "    # Find accuracy by summing correct examples\n",
    "    acc=np.sum(np.round(y_pred)==y[:,np.newaxis])/y.shape[0]\n",
    "    return acc,y_pred"
   ]
  },
  {
   "cell_type": "code",
   "execution_count": 10,
   "metadata": {},
   "outputs": [
    {
     "name": "stdout",
     "output_type": "stream",
     "text": [
      "Accuracy of our own logistic regression: 0.95 \n"
     ]
    }
   ],
   "source": [
    "# Predict \n",
    "accuracy,preds=predict(X_test,y_test,w)\n",
    "print(\"Accuracy of our own logistic regression: {:.2f} \".format(accuracy))"
   ]
  },
  {
   "cell_type": "markdown",
   "metadata": {},
   "source": [
    "We can see we have a good accuracy, especially given the noise we saw in the overall dataset. There's a number of reasons this could be and we can see why next in our analysis."
   ]
  },
  {
   "cell_type": "markdown",
   "metadata": {},
   "source": [
    "### 2.3 Analysis of Custom Logistic Regression"
   ]
  },
  {
   "cell_type": "markdown",
   "metadata": {},
   "source": [
    "#### 2.3.1 Decision Boundary and Sigmoid Curve"
   ]
  },
  {
   "cell_type": "code",
   "execution_count": 11,
   "metadata": {},
   "outputs": [
    {
     "data": {
      "image/png": "[encoded data removed]",
      "text/plain": [
       "<Figure size 432x288 with 1 Axes>"
      ]
     },
     "metadata": {
      "needs_background": "light"
     },
     "output_type": "display_data"
    }
   ],
   "source": [
    "fig, ax = plt.subplots()\n",
    "\n",
    "# Plot the testing data\n",
    "ax.scatter(X_test[:, 0], X_test[:, 1], c=y_test);\n",
    "\n",
    "# Get limits along X axis\n",
    "x1=np.array(ax.get_xlim())\n",
    "# We can reaarange the equation of weights and bias (x1*w_1+x2*w_2+w_0=0) to create a linear function of the form \n",
    "# y=mx+b and this will be our decision boundary. Note this only really works for a two feature/class problem. \n",
    "x2 = -(x1*w[1]+w[0])/w[2]\n",
    "\n",
    "# Plot the decision boundary\n",
    "ax.plot(x1,x2);"
   ]
  },
  {
   "cell_type": "markdown",
   "metadata": {},
   "source": [
    "Here we can better see which point in our Logistic Regression we got wrong. We can also notice that the noise in the training dataset isn't as bad as was seen in the orignal dataset, with only a singular yellow point mixing with a flurry of purple. Also it should also be noted that this decision boundary could easily be moved slightly to the right to encompass the next purple point. We can see why this doesn't happen when looking at our points along the sigmoid curve. "
   ]
  },
  {
   "cell_type": "code",
   "execution_count": 22,
   "metadata": {},
   "outputs": [
    {
     "data": {
      "text/plain": [
       "[<matplotlib.lines.Line2D at 0x11776cb00>]"
      ]
     },
     "execution_count": 22,
     "metadata": {},
     "output_type": "execute_result"
    },
    {
     "data": {
      "image/png": "[encoded data removed]",
      "text/plain": [
       "<Figure size 432x288 with 1 Axes>"
      ]
     },
     "metadata": {
      "needs_background": "light"
     },
     "output_type": "display_data"
    }
   ],
   "source": [
    "fig, ax = plt.subplots()\n",
    "x_test_sum=np.sum(w[0]+np.dot(X_test,w[1:]),axis=1)\n",
    "\n",
    "# Plot the training data along a sigmoid curve\n",
    "ax.scatter(x_test_sum, preds,c=y_test)\n",
    "\n",
    "# Plot the sigmoid curve too\n",
    "x_width=np.arange(ax.get_xlim()[0],ax.get_xlim()[1])\n",
    "ax.plot(x_width,np.exp(x_width)/(1+np.exp(x_width)))\n",
    "\n",
    "# And finally our decision boundary\n",
    "ax.plot(x_width, x_width*0+0.5)"
   ]
  },
  {
   "cell_type": "markdown",
   "metadata": {},
   "source": [
    "The problem of the decision boundary not including a lone point should now be evidently clear. If not, we can see that it is caused as a result of our rounding decision in the prediction class. There we used 0.5 (or basically rounding to nearest whole integer) as a basis to decide what class an example should belong too; this is a good starter point but when fine tuning parameters, it may be neccesary to adjust this to better improve upon a models accuracy."
   ]
  },
  {
   "cell_type": "markdown",
   "metadata": {},
   "source": [
    "## 3. Sklearn Comparison"
   ]
  },
  {
   "cell_type": "code",
   "execution_count": 17,
   "metadata": {},
   "outputs": [
    {
     "name": "stdout",
     "output_type": "stream",
     "text": [
      "Accuracy of logistic regression classifier on test set: 0.95\n"
     ]
    }
   ],
   "source": [
    "# Carry out Logistic Regression using sklearn module\n",
    "from sklearn.linear_model import LogisticRegression\n",
    "logreg = LogisticRegression(C=1e15)\n",
    "logreg.fit(X_train, y_train)\n",
    "print('Accuracy of logistic regression classifier on test set: {:.2f}'.format(logreg.score(X_test, y_test)))"
   ]
  },
  {
   "cell_type": "code",
   "execution_count": 46,
   "metadata": {},
   "outputs": [
    {
     "name": "stdout",
     "output_type": "stream",
     "text": [
      "Weight Difference for w_0 is 0.065048: \n",
      "Weight Difference for w_1 is 0.050269: \n",
      "Weight Difference for w_2 is 0.177135: \n"
     ]
    }
   ],
   "source": [
    "# Compare weights of each implementation\n",
    "for idx, weight in enumerate(w):\n",
    "    if idx==0: \n",
    "        print(\"Weight Difference for w_{:d} is {:0.6f}: \".format(idx,np.abs(weight - logreg.intercept_[0])[0]))\n",
    "    else: \n",
    "         print(\"Weight Difference for w_{:d} is {:0.6f}: \".format(idx,np.abs(weight - logreg.coef_[0][idx-1])[0]))"
   ]
  }
 ],
 "metadata": {
  "kernelspec": {
   "display_name": "Python 3",
   "language": "python",
   "name": "python3"
  },
  "language_info": {
   "codemirror_mode": {
    "name": "ipython",
    "version": 3
   },
   "file_extension": ".py",
   "mimetype": "text/x-python",
   "name": "python",
   "nbconvert_exporter": "python",
   "pygments_lexer": "ipython3",
   "version": "3.6.8"
  }
 },
 "nbformat": 4,
 "nbformat_minor": 2
}
